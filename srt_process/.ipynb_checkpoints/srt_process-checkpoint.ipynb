{
 "cells": [
  {
   "cell_type": "code",
   "execution_count": null,
   "metadata": {},
   "outputs": [],
   "source": [
    "#coding=utf-8\n",
    "import os\n",
    "import zipfile\n",
    "import chardet\n",
    "from glob import glob\n",
    "\n",
    "#genres = ['action', 'adventure', 'animation', 'comedy', 'crime', 'drama', 'fantasy', 'horror', 'romance', 'sci_fi', 'war']\n",
    "genres = ['action']\n",
    "\n",
    "if not os.path.exists('decode/'):\n",
    "\tos.makedirs('decode/')\n",
    "\n",
    "for genre in genres:\n",
    "\n",
    "\tif not os.path.exists('decode/'+genre+'/'):\n",
    "\t\tos.makedirs('decode/'+genre+'/')\n",
    "\n",
    "\tfor filename in glob('unzip/'+genre+'/*.srt'):\n",
    "\t\ttitlelist = filename.split('/')\n",
    "\t\ttitle = titlelist[-1].strip('.srt')\n",
    "\n",
    "\t\twith open(filename, 'rb') as file:#,errors='ignore',encoding='utf-8'\n",
    "\n",
    "\t\t\tcontents = file.read()\n",
    "\t\t\tdetect = chardet.detect(contents)\n",
    "\t\t\t#print(detect)\n",
    "\t\t\ttry:\n",
    "\t\t\t\tlines = contents.decode(detect['encoding']).encode(\"utf8\").split(b'\\r\\n')\n",
    "\t\t\t\toutput = b''\n",
    "\t\t\t\tfor i in range(len(lines)):\n",
    "\t\t\t\t\t#print(type(lines[i]))\n",
    "\t\t\t\t\tfor n in range( int(len(lines)/4) ):\n",
    "\t\t\t\t\t\tbn = bytes(str(n), encoding = ('utf-8'))\n",
    "\t\t\t\t\t\tif lines[i] == bn :\n",
    "\t\t\t\t\t\t\t#print(lines[i])\n",
    "\t\t\t\t\t\t\t#print(lines[i+2])\n",
    "\t\t\t\t\t\t\toutput += lines[i+2] + b'\\n'\n",
    "\t\t\t\tfout = open('decode/'+genre+'/'+title+'.txt',\"wb\")\n",
    "\t\t\t\tfout.write( output )\n",
    "\t\t\t\tfout.close()\n",
    "\t\t\t\tprint('success          ----- ',detect['encoding'],'---',title)\n",
    "                    f = open('output.txt',\"r\")\n",
    "            for line in f:\n",
    "                line = re.sub(r'[^\\w]','',line) \n",
    "                seg_list = jieba.cut(line)\n",
    "                line_out = ''\n",
    "                for s in seg_list:\n",
    "                    if check_contain_chinese(s):\n",
    "                        line_out += s + '/'\n",
    "                print(line_out)\n",
    "\t\t\texcept: \n",
    "\t\t\t\tprint('unknown encoding ----- ',detect['encoding'],'---',title)\n",
    "\tprint('////////////  Genre: ',genre ,' done!!!\\n')\n",
    "\n"
   ]
  }
 ],
 "metadata": {
  "kernelspec": {
   "display_name": "Python 3",
   "language": "python",
   "name": "python3"
  },
  "language_info": {
   "codemirror_mode": {
    "name": "ipython",
    "version": 3
   },
   "file_extension": ".py",
   "mimetype": "text/x-python",
   "name": "python",
   "nbconvert_exporter": "python",
   "pygments_lexer": "ipython3",
   "version": "3.5.4"
  }
 },
 "nbformat": 4,
 "nbformat_minor": 2
}
